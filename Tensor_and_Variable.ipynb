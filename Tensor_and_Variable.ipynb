{
  "nbformat": 4,
  "nbformat_minor": 0,
  "metadata": {
    "colab": {
      "name": "Tensor and Variable.ipynb",
      "provenance": [],
      "mount_file_id": "1rQxOP7ZdtUEYB2MlcalJCzD90wv9zIfF",
      "authorship_tag": "ABX9TyMxBl/ikeJ0osegC2daf4EX",
      "include_colab_link": true
    },
    "kernelspec": {
      "name": "python3",
      "display_name": "Python 3"
    },
    "language_info": {
      "name": "python"
    },
    "accelerator": "GPU"
  },
  "cells": [
    {
      "cell_type": "markdown",
      "metadata": {
        "id": "view-in-github",
        "colab_type": "text"
      },
      "source": [
        "<a href=\"https://colab.research.google.com/github/wahid49/tf-Regression/blob/main/Tensor_and_Variable.ipynb\" target=\"_parent\"><img src=\"https://colab.research.google.com/assets/colab-badge.svg\" alt=\"Open In Colab\"/></a>"
      ]
    },
    {
      "cell_type": "code",
      "execution_count": null,
      "metadata": {
        "id": "WZTGkBiYIS12"
      },
      "outputs": [],
      "source": [
        "import tensorflow as tf"
      ]
    },
    {
      "cell_type": "code",
      "source": [
        "import numpy as np"
      ],
      "metadata": {
        "id": "YyKOtqBDWjO8"
      },
      "execution_count": null,
      "outputs": []
    },
    {
      "cell_type": "code",
      "source": [
        "import pandas as pd"
      ],
      "metadata": {
        "id": "SX4QIwnZWmsh"
      },
      "execution_count": null,
      "outputs": []
    },
    {
      "cell_type": "code",
      "source": [
        "tensor_zero_d = tf.constant(1)\n",
        "print(tensor_zero_d)"
      ],
      "metadata": {
        "colab": {
          "base_uri": "https://localhost:8080/"
        },
        "id": "8Sxh9RGfIX30",
        "outputId": "349e5544-b557-4a84-8a3d-ca2ef72ab89c"
      },
      "execution_count": null,
      "outputs": [
        {
          "output_type": "stream",
          "name": "stdout",
          "text": [
            "tf.Tensor(1, shape=(), dtype=int32)\n"
          ]
        }
      ]
    },
    {
      "cell_type": "code",
      "source": [
        "tensor_one_d = tf.constant([2, 0, -3])\n",
        "print(tensor_one_d)"
      ],
      "metadata": {
        "colab": {
          "base_uri": "https://localhost:8080/"
        },
        "id": "CCoc1tLWIYFD",
        "outputId": "3380bad0-42da-4b8b-d9f5-6b05a5af2754"
      },
      "execution_count": null,
      "outputs": [
        {
          "output_type": "stream",
          "name": "stdout",
          "text": [
            "tf.Tensor([ 2  0 -3], shape=(3,), dtype=int32)\n"
          ]
        }
      ]
    },
    {
      "cell_type": "code",
      "source": [
        "tensor_two_d = tf.constant([[1,2,0],\n",
        "                            [3,5,-1],\n",
        "                            [1,5,6],\n",
        "                            [2,3,8]])\n",
        "print(tensor_two_d)"
      ],
      "metadata": {
        "colab": {
          "base_uri": "https://localhost:8080/"
        },
        "id": "waSqoo5MIYhL",
        "outputId": "299ca0c8-6d35-414d-c19b-432dc12a88fd"
      },
      "execution_count": null,
      "outputs": [
        {
          "output_type": "stream",
          "name": "stdout",
          "text": [
            "tf.Tensor(\n",
            "[[ 1  2  0]\n",
            " [ 3  5 -1]\n",
            " [ 1  5  6]\n",
            " [ 2  3  8]], shape=(4, 3), dtype=int32)\n"
          ]
        }
      ]
    },
    {
      "cell_type": "code",
      "source": [
        "tensor_three_d = tf.constant([[[1,2,0],\n",
        "                               [3,5,-1]],\n",
        "                              [[10,2,0],\n",
        "                               [1,0,2]],\n",
        "                              [[5,8,0],\n",
        "                               [2,7,0]],\n",
        "                              [[2,1,9],\n",
        "                               [4,3,32]]])\n",
        "print(tensor_three_d)"
      ],
      "metadata": {
        "colab": {
          "base_uri": "https://localhost:8080/"
        },
        "id": "cK8Ovg_KIY4z",
        "outputId": "3458aa19-a60b-479d-c0ba-b0f1537e9176"
      },
      "execution_count": null,
      "outputs": [
        {
          "output_type": "stream",
          "name": "stdout",
          "text": [
            "tf.Tensor(\n",
            "[[[ 1  2  0]\n",
            "  [ 3  5 -1]]\n",
            "\n",
            " [[10  2  0]\n",
            "  [ 1  0  2]]\n",
            "\n",
            " [[ 5  8  0]\n",
            "  [ 2  7  0]]\n",
            "\n",
            " [[ 2  1  9]\n",
            "  [ 4  3 32]]], shape=(4, 2, 3), dtype=int32)\n"
          ]
        }
      ]
    },
    {
      "cell_type": "code",
      "source": [
        "import numpy as np"
      ],
      "metadata": {
        "id": "s80uCKfWIZRC"
      },
      "execution_count": null,
      "outputs": []
    },
    {
      "cell_type": "code",
      "source": [
        "tensor_four_d = np.zeros(4)"
      ],
      "metadata": {
        "id": "xio_-yitIZlj"
      },
      "execution_count": null,
      "outputs": []
    },
    {
      "cell_type": "code",
      "source": [
        "tf.constant(tensor_four_d)"
      ],
      "metadata": {
        "colab": {
          "base_uri": "https://localhost:8080/"
        },
        "id": "eAvfmiV6IZz8",
        "outputId": "13c4ee55-4e4f-46c3-9936-a8020dd16bfc"
      },
      "execution_count": null,
      "outputs": [
        {
          "output_type": "execute_result",
          "data": {
            "text/plain": [
              "<tf.Tensor: shape=(4,), dtype=float64, numpy=array([0., 0., 0., 0.])>"
            ]
          },
          "metadata": {},
          "execution_count": 10
        }
      ]
    },
    {
      "cell_type": "code",
      "source": [
        "tensor_four_di = tf.constant(\n",
        "                            [[[[1,2,0],\n",
        "                               [3,5,-1]],\n",
        "                              [[10,2,0],\n",
        "                               [1,0,2]],\n",
        "                              [[5,8,0],\n",
        "                               [2,7,0]],\n",
        "                              [[2,1,9],\n",
        "                               [4,3,32]]],\n",
        "                             \n",
        "                             [[[1,2,0],\n",
        "                               [3,5,-1]],\n",
        "                              [[10,2,0],\n",
        "                               [1,0,2]],\n",
        "                              [[5,8,0],\n",
        "                               [2,7,0]],\n",
        "                              [[2,1,9],\n",
        "                               [4,3,32]]],\n",
        "                             \n",
        "                             [[[1,2,0],\n",
        "                               [3,5,-1]],\n",
        "                              [[10,2,0],\n",
        "                               [1,0,2]],\n",
        "                              [[5,8,0],\n",
        "                               [2,7,0]],\n",
        "                              [[2,1,9],\n",
        "                               [4,3,32]]],\n",
        "                             \n",
        "                             [[[1,2,0],\n",
        "                               [3,5,-1]],\n",
        "                              [[10,2,0],\n",
        "                               [1,0,2]],\n",
        "                              [[5,8,0],\n",
        "                               [2,7,0]],\n",
        "                              [[2,1,9],\n",
        "                               [4,3,32]]]])\n",
        "tensor_four_di, tensor_four_di.shape, tensor_four_di.ndim"
      ],
      "metadata": {
        "colab": {
          "base_uri": "https://localhost:8080/"
        },
        "id": "TF5qETraN_Qp",
        "outputId": "222c351c-2a6a-459e-d60a-2d092bc04cfd"
      },
      "execution_count": null,
      "outputs": [
        {
          "output_type": "execute_result",
          "data": {
            "text/plain": [
              "(<tf.Tensor: shape=(4, 4, 2, 3), dtype=int32, numpy=\n",
              " array([[[[ 1,  2,  0],\n",
              "          [ 3,  5, -1]],\n",
              " \n",
              "         [[10,  2,  0],\n",
              "          [ 1,  0,  2]],\n",
              " \n",
              "         [[ 5,  8,  0],\n",
              "          [ 2,  7,  0]],\n",
              " \n",
              "         [[ 2,  1,  9],\n",
              "          [ 4,  3, 32]]],\n",
              " \n",
              " \n",
              "        [[[ 1,  2,  0],\n",
              "          [ 3,  5, -1]],\n",
              " \n",
              "         [[10,  2,  0],\n",
              "          [ 1,  0,  2]],\n",
              " \n",
              "         [[ 5,  8,  0],\n",
              "          [ 2,  7,  0]],\n",
              " \n",
              "         [[ 2,  1,  9],\n",
              "          [ 4,  3, 32]]],\n",
              " \n",
              " \n",
              "        [[[ 1,  2,  0],\n",
              "          [ 3,  5, -1]],\n",
              " \n",
              "         [[10,  2,  0],\n",
              "          [ 1,  0,  2]],\n",
              " \n",
              "         [[ 5,  8,  0],\n",
              "          [ 2,  7,  0]],\n",
              " \n",
              "         [[ 2,  1,  9],\n",
              "          [ 4,  3, 32]]],\n",
              " \n",
              " \n",
              "        [[[ 1,  2,  0],\n",
              "          [ 3,  5, -1]],\n",
              " \n",
              "         [[10,  2,  0],\n",
              "          [ 1,  0,  2]],\n",
              " \n",
              "         [[ 5,  8,  0],\n",
              "          [ 2,  7,  0]],\n",
              " \n",
              "         [[ 2,  1,  9],\n",
              "          [ 4,  3, 32]]]], dtype=int32)>, TensorShape([4, 4, 2, 3]), 4)"
            ]
          },
          "metadata": {},
          "execution_count": 11
        }
      ]
    },
    {
      "cell_type": "code",
      "source": [
        "tensor_1_d = tf.constant([3,0.5,-3], dtype=tf.float32)\n",
        "print(tensor_1_d)\n",
        "# Cast convert float32 to float16\n",
        "cast_tensor_1_d = tf.cast(tensor_1_d, dtype=tf.float16)\n",
        "print(cast_tensor_1_d)\n"
      ],
      "metadata": {
        "colab": {
          "base_uri": "https://localhost:8080/"
        },
        "id": "36KRbsdzPI2j",
        "outputId": "d9915d74-36c0-434d-d95a-9a6eeb54a249"
      },
      "execution_count": null,
      "outputs": [
        {
          "output_type": "stream",
          "name": "stdout",
          "text": [
            "tf.Tensor([ 3.   0.5 -3. ], shape=(3,), dtype=float32)\n",
            "tf.Tensor([ 3.   0.5 -3. ], shape=(3,), dtype=float16)\n"
          ]
        }
      ]
    },
    {
      "cell_type": "code",
      "source": [
        "x_np = np.array([3,4,5])\n",
        "print(x_np)"
      ],
      "metadata": {
        "colab": {
          "base_uri": "https://localhost:8080/"
        },
        "id": "-R6_Mj7UW0uR",
        "outputId": "463795ca-ea19-4ce0-95ce-93cbf6a811f3"
      },
      "execution_count": null,
      "outputs": [
        {
          "output_type": "stream",
          "name": "stdout",
          "text": [
            "[3 4 5]\n"
          ]
        }
      ]
    },
    {
      "cell_type": "code",
      "source": [
        "x_tf = tf.convert_to_tensor(x_np, dtype=tf.float32)\n",
        "print(x_tf)"
      ],
      "metadata": {
        "colab": {
          "base_uri": "https://localhost:8080/"
        },
        "id": "MsGIEq6ag4F6",
        "outputId": "c8bc73ca-6ad6-4db6-878e-dc4591bb2c32"
      },
      "execution_count": null,
      "outputs": [
        {
          "output_type": "stream",
          "name": "stdout",
          "text": [
            "tf.Tensor([3. 4. 5.], shape=(3,), dtype=float32)\n"
          ]
        }
      ]
    },
    {
      "cell_type": "code",
      "source": [
        "identity_matrics = tf.eye(8, num_columns=3, batch_shape=[3])\n",
        "print(identity_matrics)"
      ],
      "metadata": {
        "colab": {
          "base_uri": "https://localhost:8080/"
        },
        "id": "gxfAe39AhFy4",
        "outputId": "bdb0d8f5-70e4-46d4-f1cf-6ec0de9f7b6c"
      },
      "execution_count": null,
      "outputs": [
        {
          "output_type": "stream",
          "name": "stdout",
          "text": [
            "tf.Tensor(\n",
            "[[[1. 0. 0.]\n",
            "  [0. 1. 0.]\n",
            "  [0. 0. 1.]\n",
            "  [0. 0. 0.]\n",
            "  [0. 0. 0.]\n",
            "  [0. 0. 0.]\n",
            "  [0. 0. 0.]\n",
            "  [0. 0. 0.]]\n",
            "\n",
            " [[1. 0. 0.]\n",
            "  [0. 1. 0.]\n",
            "  [0. 0. 1.]\n",
            "  [0. 0. 0.]\n",
            "  [0. 0. 0.]\n",
            "  [0. 0. 0.]\n",
            "  [0. 0. 0.]\n",
            "  [0. 0. 0.]]\n",
            "\n",
            " [[1. 0. 0.]\n",
            "  [0. 1. 0.]\n",
            "  [0. 0. 1.]\n",
            "  [0. 0. 0.]\n",
            "  [0. 0. 0.]\n",
            "  [0. 0. 0.]\n",
            "  [0. 0. 0.]\n",
            "  [0. 0. 0.]]], shape=(3, 8, 3), dtype=float32)\n"
          ]
        }
      ]
    },
    {
      "cell_type": "code",
      "source": [
        "tensor_fill = tf.fill([2,3], 19)\n",
        "print(tensor_fill)"
      ],
      "metadata": {
        "colab": {
          "base_uri": "https://localhost:8080/"
        },
        "id": "1a0YxlyDhuCB",
        "outputId": "2825b444-38c2-42c0-9185-cf90339c1d37"
      },
      "execution_count": null,
      "outputs": [
        {
          "output_type": "stream",
          "name": "stdout",
          "text": [
            "tf.Tensor(\n",
            "[[19 19 19]\n",
            " [19 19 19]], shape=(2, 3), dtype=int32)\n"
          ]
        }
      ]
    },
    {
      "cell_type": "code",
      "source": [
        "tensor_ones = tf.ones([4,3])\n",
        "print(tensor_ones)"
      ],
      "metadata": {
        "colab": {
          "base_uri": "https://localhost:8080/"
        },
        "id": "xEnLwckqka-6",
        "outputId": "6984c749-f4b7-4f87-d6b8-183167930fd1"
      },
      "execution_count": null,
      "outputs": [
        {
          "output_type": "stream",
          "name": "stdout",
          "text": [
            "tf.Tensor(\n",
            "[[1. 1. 1.]\n",
            " [1. 1. 1.]\n",
            " [1. 1. 1.]\n",
            " [1. 1. 1.]], shape=(4, 3), dtype=float32)\n"
          ]
        }
      ]
    },
    {
      "cell_type": "code",
      "source": [
        "tensor_zeros = tf.zeros([5,2], dtype=tf.float32)\n",
        "print(tensor_zeros)"
      ],
      "metadata": {
        "colab": {
          "base_uri": "https://localhost:8080/"
        },
        "id": "Uqm4TxHektBo",
        "outputId": "75394bd4-10f5-4335-e1e8-87cb2eefda52"
      },
      "execution_count": null,
      "outputs": [
        {
          "output_type": "stream",
          "name": "stdout",
          "text": [
            "tf.Tensor(\n",
            "[[0. 0.]\n",
            " [0. 0.]\n",
            " [0. 0.]\n",
            " [0. 0.]\n",
            " [0. 0.]], shape=(5, 2), dtype=float32)\n"
          ]
        }
      ]
    },
    {
      "cell_type": "code",
      "source": [
        "ones_like_tensor = tf.ones_like(tensor_four_di, dtype=tf.float32)\n",
        "print(ones_like_tensor)"
      ],
      "metadata": {
        "colab": {
          "base_uri": "https://localhost:8080/"
        },
        "id": "Bh119Duhk5uw",
        "outputId": "e0d971a8-f9bc-495a-cda7-9cd6c03f13e8"
      },
      "execution_count": null,
      "outputs": [
        {
          "output_type": "stream",
          "name": "stdout",
          "text": [
            "tf.Tensor(\n",
            "[[[[1. 1. 1.]\n",
            "   [1. 1. 1.]]\n",
            "\n",
            "  [[1. 1. 1.]\n",
            "   [1. 1. 1.]]\n",
            "\n",
            "  [[1. 1. 1.]\n",
            "   [1. 1. 1.]]\n",
            "\n",
            "  [[1. 1. 1.]\n",
            "   [1. 1. 1.]]]\n",
            "\n",
            "\n",
            " [[[1. 1. 1.]\n",
            "   [1. 1. 1.]]\n",
            "\n",
            "  [[1. 1. 1.]\n",
            "   [1. 1. 1.]]\n",
            "\n",
            "  [[1. 1. 1.]\n",
            "   [1. 1. 1.]]\n",
            "\n",
            "  [[1. 1. 1.]\n",
            "   [1. 1. 1.]]]\n",
            "\n",
            "\n",
            " [[[1. 1. 1.]\n",
            "   [1. 1. 1.]]\n",
            "\n",
            "  [[1. 1. 1.]\n",
            "   [1. 1. 1.]]\n",
            "\n",
            "  [[1. 1. 1.]\n",
            "   [1. 1. 1.]]\n",
            "\n",
            "  [[1. 1. 1.]\n",
            "   [1. 1. 1.]]]\n",
            "\n",
            "\n",
            " [[[1. 1. 1.]\n",
            "   [1. 1. 1.]]\n",
            "\n",
            "  [[1. 1. 1.]\n",
            "   [1. 1. 1.]]\n",
            "\n",
            "  [[1. 1. 1.]\n",
            "   [1. 1. 1.]]\n",
            "\n",
            "  [[1. 1. 1.]\n",
            "   [1. 1. 1.]]]], shape=(4, 4, 2, 3), dtype=float32)\n"
          ]
        }
      ]
    },
    {
      "cell_type": "code",
      "source": [
        "tf.random_normal_initializer(\n",
        "    mean=0.0, stddev=0.05, seed=None\n",
        ")"
      ],
      "metadata": {
        "colab": {
          "base_uri": "https://localhost:8080/"
        },
        "id": "GrORx8PQl3V6",
        "outputId": "d9e54248-7242-4c39-d84a-ac3dd57db05a"
      },
      "execution_count": null,
      "outputs": [
        {
          "output_type": "execute_result",
          "data": {
            "text/plain": [
              "<tensorflow.python.ops.init_ops_v2.RandomNormal at 0x7ff8ec446990>"
            ]
          },
          "metadata": {},
          "execution_count": 20
        }
      ]
    },
    {
      "cell_type": "code",
      "source": [
        "tensor_normal_ini = tf.random_normal_initializer(mean=tensor_four_di)\n",
        "tensor_normal_ini"
      ],
      "metadata": {
        "colab": {
          "base_uri": "https://localhost:8080/"
        },
        "id": "rEiP-lUpmWIq",
        "outputId": "c4dce999-0ed3-4889-d2f8-38f059a9ba88"
      },
      "execution_count": null,
      "outputs": [
        {
          "output_type": "execute_result",
          "data": {
            "text/plain": [
              "<tensorflow.python.ops.init_ops_v2.RandomNormal at 0x7ff8ec432f90>"
            ]
          },
          "metadata": {},
          "execution_count": 21
        }
      ]
    },
    {
      "cell_type": "code",
      "source": [
        "start = 3\n",
        "limit = 18\n",
        "delta = 3\n",
        "tf.range(start, limit)"
      ],
      "metadata": {
        "colab": {
          "base_uri": "https://localhost:8080/"
        },
        "id": "TH234oruml54",
        "outputId": "7e94ee3f-4488-4bfb-c02b-46bfa4a22af0"
      },
      "execution_count": null,
      "outputs": [
        {
          "output_type": "execute_result",
          "data": {
            "text/plain": [
              "<tf.Tensor: shape=(15,), dtype=int32, numpy=\n",
              "array([ 3,  4,  5,  6,  7,  8,  9, 10, 11, 12, 13, 14, 15, 16, 17],\n",
              "      dtype=int32)>"
            ]
          },
          "metadata": {},
          "execution_count": 22
        }
      ]
    },
    {
      "cell_type": "code",
      "source": [
        "tf.range(3, 25, 6, dtype=tf.float32)"
      ],
      "metadata": {
        "colab": {
          "base_uri": "https://localhost:8080/"
        },
        "id": "679swaxYnIcR",
        "outputId": "a15cacaf-cc45-4201-f9f3-3789dd15c32c"
      },
      "execution_count": null,
      "outputs": [
        {
          "output_type": "execute_result",
          "data": {
            "text/plain": [
              "<tf.Tensor: shape=(4,), dtype=float32, numpy=array([ 3.,  9., 15., 21.], dtype=float32)>"
            ]
          },
          "metadata": {},
          "execution_count": 23
        }
      ]
    },
    {
      "cell_type": "code",
      "source": [
        "num_rows = 3\n",
        "num_columns = 3\n",
        "batch_shape = [2]\n",
        "tf.eye(num_rows, num_columns, batch_shape)"
      ],
      "metadata": {
        "colab": {
          "base_uri": "https://localhost:8080/"
        },
        "id": "txiVx1VqnkEh",
        "outputId": "6f7cf4e4-a607-49d9-9032-0bd4cdda065d"
      },
      "execution_count": null,
      "outputs": [
        {
          "output_type": "execute_result",
          "data": {
            "text/plain": [
              "<tf.Tensor: shape=(2, 3, 3), dtype=float32, numpy=\n",
              "array([[[1., 0., 0.],\n",
              "        [0., 1., 0.],\n",
              "        [0., 0., 1.]],\n",
              "\n",
              "       [[1., 0., 0.],\n",
              "        [0., 1., 0.],\n",
              "        [0., 0., 1.]]], dtype=float32)>"
            ]
          },
          "metadata": {},
          "execution_count": 25
        }
      ]
    },
    {
      "cell_type": "code",
      "source": [
        "tf.random_normal_initializer(\n",
        "    mean=0.0, stddev=0.05, seed=None\n",
        ")\n"
      ],
      "metadata": {
        "colab": {
          "base_uri": "https://localhost:8080/"
        },
        "id": "gQ8TjS11oCHy",
        "outputId": "e9fc7682-e281-4e31-b3ed-a55fffc17cfe"
      },
      "execution_count": null,
      "outputs": [
        {
          "output_type": "execute_result",
          "data": {
            "text/plain": [
              "<tensorflow.python.ops.init_ops_v2.RandomNormal at 0x7ff8e8b7edd0>"
            ]
          },
          "metadata": {},
          "execution_count": 26
        }
      ]
    },
    {
      "cell_type": "code",
      "source": [
        "mean = 4\n",
        "stddev = 0.1\n",
        "tf.random_normal_initializer(mean, stddev)"
      ],
      "metadata": {
        "colab": {
          "base_uri": "https://localhost:8080/"
        },
        "id": "TnUBNkwPoIvo",
        "outputId": "8eaed0b0-5ba4-4b2a-9ff7-d7e61490326a"
      },
      "execution_count": null,
      "outputs": [
        {
          "output_type": "execute_result",
          "data": {
            "text/plain": [
              "<tensorflow.python.ops.init_ops_v2.RandomNormal at 0x7ff8e8c16310>"
            ]
          },
          "metadata": {},
          "execution_count": 27
        }
      ]
    },
    {
      "cell_type": "code",
      "source": [
        "tf.shape(tensor_four_di)"
      ],
      "metadata": {
        "colab": {
          "base_uri": "https://localhost:8080/"
        },
        "id": "fbTiNPHeoVYA",
        "outputId": "022b5d35-76bb-495a-a5d9-3023403c7818"
      },
      "execution_count": null,
      "outputs": [
        {
          "output_type": "execute_result",
          "data": {
            "text/plain": [
              "<tf.Tensor: shape=(4,), dtype=int32, numpy=array([4, 4, 2, 3], dtype=int32)>"
            ]
          },
          "metadata": {},
          "execution_count": 28
        }
      ]
    },
    {
      "cell_type": "code",
      "source": [
        "tensor_four_di.shape"
      ],
      "metadata": {
        "colab": {
          "base_uri": "https://localhost:8080/"
        },
        "id": "8ZYxx9quo_nQ",
        "outputId": "11d92c40-85d3-40a1-d27f-fd3feeb551ea"
      },
      "execution_count": null,
      "outputs": [
        {
          "output_type": "execute_result",
          "data": {
            "text/plain": [
              "TensorShape([4, 4, 2, 3])"
            ]
          },
          "metadata": {},
          "execution_count": 31
        }
      ]
    },
    {
      "cell_type": "code",
      "source": [
        "print(tf.size(tensor_four_di))"
      ],
      "metadata": {
        "colab": {
          "base_uri": "https://localhost:8080/"
        },
        "id": "YJxvRJqYpKsg",
        "outputId": "eba70218-d9e1-4e73-ef57-7cb4ae88042b"
      },
      "execution_count": null,
      "outputs": [
        {
          "output_type": "stream",
          "name": "stdout",
          "text": [
            "tf.Tensor(96, shape=(), dtype=int32)\n"
          ]
        }
      ]
    },
    {
      "cell_type": "code",
      "source": [
        "g = tf.random.Generator.from_non_deterministic_state()\n",
        "g.normal(shape=(2,), mean=100, stddev=1)"
      ],
      "metadata": {
        "colab": {
          "base_uri": "https://localhost:8080/"
        },
        "id": "8RMlvlLgpsrw",
        "outputId": "5681ab55-a64d-49c3-80a8-d97909cd90cf"
      },
      "execution_count": null,
      "outputs": [
        {
          "output_type": "execute_result",
          "data": {
            "text/plain": [
              "<tf.Tensor: shape=(2,), dtype=float32, numpy=array([101.58196,  98.48762], dtype=float32)>"
            ]
          },
          "metadata": {},
          "execution_count": 30
        }
      ]
    },
    {
      "cell_type": "code",
      "source": [
        "g.normal(shape=(2,3))"
      ],
      "metadata": {
        "colab": {
          "base_uri": "https://localhost:8080/"
        },
        "id": "GE77u42NqN0B",
        "outputId": "282c9af5-36cc-4c02-bedc-3ea1313d0e99"
      },
      "execution_count": null,
      "outputs": [
        {
          "output_type": "execute_result",
          "data": {
            "text/plain": [
              "<tf.Tensor: shape=(2, 3), dtype=float32, numpy=\n",
              "array([[1.0431641 , 0.5755163 , 0.7208353 ],\n",
              "       [0.11541076, 0.6656553 , 0.20438626]], dtype=float32)>"
            ]
          },
          "metadata": {},
          "execution_count": 32
        }
      ]
    },
    {
      "cell_type": "code",
      "source": [
        "g = tf.random.Generator.from_seed(120)\n",
        "g.uniform(shape=(2,), minval=12, maxval=10)"
      ],
      "metadata": {
        "colab": {
          "base_uri": "https://localhost:8080/"
        },
        "id": "ReaRuJazqSG4",
        "outputId": "52d10727-c31d-43f1-ad3f-aa8cd8b177c9"
      },
      "execution_count": null,
      "outputs": [
        {
          "output_type": "execute_result",
          "data": {
            "text/plain": [
              "<tf.Tensor: shape=(2,), dtype=float32, numpy=array([11.860489, 10.277416], dtype=float32)>"
            ]
          },
          "metadata": {},
          "execution_count": 33
        }
      ]
    },
    {
      "cell_type": "code",
      "source": [
        "tf.random.normal(\n",
        "    (3,2), mean=4.0, stddev=0.10, dtype=tf.dtypes.float32, seed=42, name=None\n",
        ")"
      ],
      "metadata": {
        "colab": {
          "base_uri": "https://localhost:8080/"
        },
        "id": "u_g6RdggBA8o",
        "outputId": "3d6a1c72-1f19-4f66-9499-79b63835e272"
      },
      "execution_count": null,
      "outputs": [
        {
          "output_type": "execute_result",
          "data": {
            "text/plain": [
              "<tf.Tensor: shape=(3, 2), dtype=float32, numpy=\n",
              "array([[3.9719224, 3.986225 ],\n",
              "       [3.932367 , 4.002458 ],\n",
              "       [3.9106414, 3.9171526]], dtype=float32)>"
            ]
          },
          "metadata": {},
          "execution_count": 34
        }
      ]
    },
    {
      "cell_type": "code",
      "source": [
        "tensor_indexed = tf.constant([3,6,2,4,6,66,7])\n",
        "print(tensor_indexed)\n",
        "print(tensor_indexed[1])\n",
        "print(tensor_indexed[1:3+1])"
      ],
      "metadata": {
        "colab": {
          "base_uri": "https://localhost:8080/"
        },
        "id": "kHNxL7YRB9iB",
        "outputId": "123e581f-8c5b-49d9-a5b7-3f52716bf041"
      },
      "execution_count": null,
      "outputs": [
        {
          "output_type": "stream",
          "name": "stdout",
          "text": [
            "tf.Tensor([ 3  6  2  4  6 66  7], shape=(7,), dtype=int32)\n",
            "tf.Tensor(6, shape=(), dtype=int32)\n",
            "tf.Tensor([6 2 4], shape=(3,), dtype=int32)\n"
          ]
        }
      ]
    },
    {
      "cell_type": "code",
      "source": [
        "tensor_two_d[0:3 , 0:2]"
      ],
      "metadata": {
        "colab": {
          "base_uri": "https://localhost:8080/"
        },
        "id": "bQP2c15NCeLQ",
        "outputId": "641f9229-5db0-460d-9b96-33b097cbceeb"
      },
      "execution_count": null,
      "outputs": [
        {
          "output_type": "execute_result",
          "data": {
            "text/plain": [
              "<tf.Tensor: shape=(3, 2), dtype=int32, numpy=\n",
              "array([[1, 2],\n",
              "       [3, 5],\n",
              "       [1, 5]], dtype=int32)>"
            ]
          },
          "metadata": {},
          "execution_count": 36
        }
      ]
    },
    {
      "cell_type": "code",
      "source": [
        "tensor_four_di.ndim"
      ],
      "metadata": {
        "id": "nyQcZGw3MGYp",
        "colab": {
          "base_uri": "https://localhost:8080/"
        },
        "outputId": "f9040255-1e1e-45f3-b870-0b0eb413604c"
      },
      "execution_count": null,
      "outputs": [
        {
          "output_type": "execute_result",
          "data": {
            "text/plain": [
              "4"
            ]
          },
          "metadata": {},
          "execution_count": 37
        }
      ]
    },
    {
      "cell_type": "code",
      "source": [
        "# Work on indexing\n",
        "ten_two_d = tf.constant([[1,2,3],\n",
        "                          [3,4,5],\n",
        "                          [4,7,8],\n",
        "                         [5,6,7]])\n",
        "print(ten_two_d[ ...,1])"
      ],
      "metadata": {
        "colab": {
          "base_uri": "https://localhost:8080/"
        },
        "id": "BAl35blshpWM",
        "outputId": "1e72da7f-2c2f-489f-c549-d5fd1f9aaa35"
      },
      "execution_count": null,
      "outputs": [
        {
          "output_type": "stream",
          "name": "stdout",
          "text": [
            "tf.Tensor([2 4 7 6], shape=(4,), dtype=int32)\n"
          ]
        }
      ]
    },
    {
      "cell_type": "code",
      "source": [
        "tensor_three_d"
      ],
      "metadata": {
        "colab": {
          "base_uri": "https://localhost:8080/"
        },
        "id": "5RGcecGHh7XD",
        "outputId": "25c77699-24eb-422c-f34b-f73a6cf689e1"
      },
      "execution_count": null,
      "outputs": [
        {
          "output_type": "execute_result",
          "data": {
            "text/plain": [
              "<tf.Tensor: shape=(4, 2, 3), dtype=int32, numpy=\n",
              "array([[[ 1,  2,  0],\n",
              "        [ 3,  5, -1]],\n",
              "\n",
              "       [[10,  2,  0],\n",
              "        [ 1,  0,  2]],\n",
              "\n",
              "       [[ 5,  8,  0],\n",
              "        [ 2,  7,  0]],\n",
              "\n",
              "       [[ 2,  1,  9],\n",
              "        [ 4,  3, 32]]], dtype=int32)>"
            ]
          },
          "metadata": {},
          "execution_count": 54
        }
      ]
    },
    {
      "cell_type": "code",
      "source": [
        "print(tensor_three_d[..., :, 2])"
      ],
      "metadata": {
        "colab": {
          "base_uri": "https://localhost:8080/"
        },
        "id": "K2DCxyPwjscK",
        "outputId": "9c90878c-759a-41ac-d3fc-cffc3d6dc71b"
      },
      "execution_count": null,
      "outputs": [
        {
          "output_type": "stream",
          "name": "stdout",
          "text": [
            "tf.Tensor(\n",
            "[[ 0 -1]\n",
            " [ 0  2]\n",
            " [ 0  0]\n",
            " [ 9 32]], shape=(4, 2), dtype=int32)\n"
          ]
        }
      ]
    },
    {
      "cell_type": "code",
      "source": [
        "# real number\n",
        "x = tf.constant([-2.25, 3.25])\n",
        "tf.abs(x)"
      ],
      "metadata": {
        "colab": {
          "base_uri": "https://localhost:8080/"
        },
        "id": "M0pBfIl_j1AS",
        "outputId": "4b47ef85-bed1-49b3-8c44-d71530daf79f"
      },
      "execution_count": null,
      "outputs": [
        {
          "output_type": "execute_result",
          "data": {
            "text/plain": [
              "<tf.Tensor: shape=(2,), dtype=float32, numpy=array([2.25, 3.25], dtype=float32)>"
            ]
          },
          "metadata": {},
          "execution_count": 62
        }
      ]
    },
    {
      "cell_type": "code",
      "source": [
        "tf.sqrt(-2.25**2 + 4.75**2)"
      ],
      "metadata": {
        "colab": {
          "base_uri": "https://localhost:8080/"
        },
        "id": "67sfLJEjovAr",
        "outputId": "9b5f2821-2f3d-4bf4-85d6-f5bf1e1be754"
      },
      "execution_count": null,
      "outputs": [
        {
          "output_type": "execute_result",
          "data": {
            "text/plain": [
              "<tf.Tensor: shape=(), dtype=float32, numpy=4.1833>"
            ]
          },
          "metadata": {},
          "execution_count": 63
        }
      ]
    },
    {
      "cell_type": "code",
      "source": [
        "x_1 = tf.constant([1,2,3,4,5], dtype=tf.int32)\n",
        "x_2 = tf.constant([6,6,7,8,9], dtype= tf.int32)\n",
        "\n",
        "tf.multiply(x_1, x_2)"
      ],
      "metadata": {
        "colab": {
          "base_uri": "https://localhost:8080/"
        },
        "id": "yrarqowMo9xI",
        "outputId": "e80cb3d7-21c8-4bcf-b08e-040c4d499317"
      },
      "execution_count": null,
      "outputs": [
        {
          "output_type": "execute_result",
          "data": {
            "text/plain": [
              "<tf.Tensor: shape=(5,), dtype=int32, numpy=array([ 6, 12, 21, 32, 45], dtype=int32)>"
            ]
          },
          "metadata": {},
          "execution_count": 65
        }
      ]
    },
    {
      "cell_type": "code",
      "source": [
        "# Broadcasting Tensor\n",
        "\n",
        "x_1 = tf.constant([1,2,3,4,5], dtype=tf.int32)\n",
        "x_2 = tf.constant([7], dtype= tf.int32)\n",
        "\n"
      ],
      "metadata": {
        "id": "65cqtqrxpioI"
      },
      "execution_count": null,
      "outputs": []
    },
    {
      "cell_type": "code",
      "source": [
        "xx1 = tf.constant([[5,3,6,6,4,6]], dtype=tf.float32)\n",
        "xx2 = tf.constant([[7], [5], [3]], dtype=tf.float32)\n",
        "\n",
        "print(xx1.shape)\n",
        "print(xx2.shape)\n",
        "print(tf.math.multiply(xx1,xx2))"
      ],
      "metadata": {
        "colab": {
          "base_uri": "https://localhost:8080/"
        },
        "id": "y40v2zxMtJFR",
        "outputId": "ee943571-7222-4304-b16d-7c87e1c2d949"
      },
      "execution_count": null,
      "outputs": [
        {
          "output_type": "stream",
          "name": "stdout",
          "text": [
            "(1, 6)\n",
            "(3, 1)\n",
            "tf.Tensor(\n",
            "[[35. 21. 42. 42. 28. 42.]\n",
            " [25. 15. 30. 30. 20. 30.]\n",
            " [15.  9. 18. 18. 12. 18.]], shape=(3, 6), dtype=float32)\n"
          ]
        }
      ]
    },
    {
      "cell_type": "code",
      "source": [
        "x_argmax = tf.constant([[2,20,30,3,6],\n",
        "                        [3,11,16,1,8],\n",
        "                        [14,45,23,5,27]])\n",
        "print(x_argmax.shape)\n",
        "print(tf.math.argmax(x_argmax))"
      ],
      "metadata": {
        "colab": {
          "base_uri": "https://localhost:8080/"
        },
        "id": "0H6XnkEHxPtX",
        "outputId": "10814ac3-6947-42ec-9407-0303d091487c"
      },
      "execution_count": null,
      "outputs": [
        {
          "output_type": "stream",
          "name": "stdout",
          "text": [
            "(3, 5)\n",
            "tf.Tensor([2 2 0 2 2], shape=(5,), dtype=int64)\n"
          ]
        }
      ]
    },
    {
      "cell_type": "code",
      "source": [
        "x_argmax = tf.constant([2,20,30,3,6])\n",
        "print(tf.math.argmin(x_argmax))"
      ],
      "metadata": {
        "colab": {
          "base_uri": "https://localhost:8080/"
        },
        "id": "83GQyhfnyFNP",
        "outputId": "9faa2509-18b2-4fb0-b235-a6ed7568dfa0"
      },
      "execution_count": null,
      "outputs": [
        {
          "output_type": "stream",
          "name": "stdout",
          "text": [
            "tf.Tensor(0, shape=(), dtype=int64)\n"
          ]
        }
      ]
    },
    {
      "cell_type": "code",
      "source": [
        "x = tf.constant([[2, 2], [3, 3]])\n",
        "y = tf.constant([[8, 16], [2, 3]])\n",
        "tf.pow(x, y)  # [[256, 65536], [9, 27]]"
      ],
      "metadata": {
        "colab": {
          "base_uri": "https://localhost:8080/"
        },
        "id": "fRElrzzWyRT3",
        "outputId": "c1f1249e-17b1-44d0-8814-9f7eb6c0de6b"
      },
      "execution_count": null,
      "outputs": [
        {
          "output_type": "execute_result",
          "data": {
            "text/plain": [
              "<tf.Tensor: shape=(2, 2), dtype=int32, numpy=\n",
              "array([[  256, 65536],\n",
              "       [    9,    27]], dtype=int32)>"
            ]
          },
          "metadata": {},
          "execution_count": 78
        }
      ]
    },
    {
      "cell_type": "code",
      "source": [
        "tensor_two_D = tf.constant([[1,-2,0],\n",
        "                            [3,5,100],\n",
        "                            [1,5,6],\n",
        "                            [2,3,8]], dtype=tf.float32)\n",
        "print(tensor_two_D)\n",
        "tf.math.reduce_mean(tensor_two_D, axis=0, keepdims=False, name=None)"
      ],
      "metadata": {
        "colab": {
          "base_uri": "https://localhost:8080/"
        },
        "id": "BZuPZcKn0a0m",
        "outputId": "313200f3-7734-4c3a-8dd5-e213d98ab89b"
      },
      "execution_count": null,
      "outputs": [
        {
          "output_type": "stream",
          "name": "stdout",
          "text": [
            "tf.Tensor(\n",
            "[[  1.  -2.   0.]\n",
            " [  3.   5. 100.]\n",
            " [  1.   5.   6.]\n",
            " [  2.   3.   8.]], shape=(4, 3), dtype=float32)\n"
          ]
        },
        {
          "output_type": "execute_result",
          "data": {
            "text/plain": [
              "<tf.Tensor: shape=(3,), dtype=float32, numpy=array([ 1.75,  2.75, 28.5 ], dtype=float32)>"
            ]
          },
          "metadata": {},
          "execution_count": 80
        }
      ]
    },
    {
      "cell_type": "code",
      "source": [
        "tf.math.top_k(tensor_two_D)"
      ],
      "metadata": {
        "colab": {
          "base_uri": "https://localhost:8080/"
        },
        "id": "noBS0WcN2Rbm",
        "outputId": "c741c6f5-09f8-4516-d603-ea0079165090"
      },
      "execution_count": null,
      "outputs": [
        {
          "output_type": "execute_result",
          "data": {
            "text/plain": [
              "TopKV2(values=<tf.Tensor: shape=(4, 1), dtype=float32, numpy=\n",
              "array([[  1.],\n",
              "       [100.],\n",
              "       [  6.],\n",
              "       [  8.]], dtype=float32)>, indices=<tf.Tensor: shape=(4, 1), dtype=int32, numpy=\n",
              "array([[0],\n",
              "       [2],\n",
              "       [2],\n",
              "       [2]], dtype=int32)>)"
            ]
          },
          "metadata": {},
          "execution_count": 81
        }
      ]
    },
    {
      "cell_type": "code",
      "source": [
        "x_1 = tf.cast(x_1, dtype=tf.float32)\n",
        "x_1"
      ],
      "metadata": {
        "colab": {
          "base_uri": "https://localhost:8080/"
        },
        "id": "G0WSxjU-3LQc",
        "outputId": "07b59f7f-6511-4bbc-c3b3-c95fea46d8ff"
      },
      "execution_count": null,
      "outputs": [
        {
          "output_type": "execute_result",
          "data": {
            "text/plain": [
              "<tf.Tensor: shape=(5,), dtype=float32, numpy=array([1., 2., 3., 4., 5.], dtype=float32)>"
            ]
          },
          "metadata": {},
          "execution_count": 88
        }
      ]
    },
    {
      "cell_type": "code",
      "source": [
        "x_1,x_2"
      ],
      "metadata": {
        "colab": {
          "base_uri": "https://localhost:8080/"
        },
        "id": "kwAxSkc85XTV",
        "outputId": "72127353-611c-4fdd-b8e7-141a0fa766bd"
      },
      "execution_count": null,
      "outputs": [
        {
          "output_type": "execute_result",
          "data": {
            "text/plain": [
              "(<tf.Tensor: shape=(5,), dtype=float32, numpy=array([1., 2., 3., 4., 5.], dtype=float32)>,\n",
              " <tf.Tensor: shape=(1,), dtype=int32, numpy=array([7], dtype=int32)>)"
            ]
          },
          "metadata": {},
          "execution_count": 90
        }
      ]
    },
    {
      "cell_type": "code",
      "source": [
        "print(tf.transpose(x_2))"
      ],
      "metadata": {
        "colab": {
          "base_uri": "https://localhost:8080/"
        },
        "id": "V2z9CUiG6C8E",
        "outputId": "48df29bb-31cf-48cc-c2d0-52105726fad3"
      },
      "execution_count": null,
      "outputs": [
        {
          "output_type": "stream",
          "name": "stdout",
          "text": [
            "tf.Tensor([7], shape=(1,), dtype=int32)\n"
          ]
        }
      ]
    },
    {
      "cell_type": "code",
      "source": [
        "x_1 = tf.constant([[3,5,8]])\n",
        "\n",
        "x_2 = tf.constant([[1,2,0,2],\n",
        "                   [4,5,-1,2],\n",
        "                   [4,5,6,0]])\n",
        "\n",
        "x_3 = tf.constant([[1,2,0,2],\n",
        "                   [3,5,-1,2]])\n",
        "\n",
        "print(x_1.shape, x_2.shape, x_3.shape, tf.transpose(x_2).shape)\n",
        "\n",
        "print(x_3@tf.transpose(x_2))\n",
        "tf.linalg.matmul(\n",
        "    x_3, x_2, transpose_a=False, transpose_b=True, adjoint_a=False, adjoint_b=False,\n",
        "    a_is_sparse=False, b_is_sparse=False, output_type=None, name=None\n",
        ")\n",
        "\n"
      ],
      "metadata": {
        "colab": {
          "base_uri": "https://localhost:8080/"
        },
        "id": "7fgTz6lN6Lxk",
        "outputId": "f6a080c3-59df-46db-ee9b-7ce298a0cc95"
      },
      "execution_count": null,
      "outputs": [
        {
          "output_type": "stream",
          "name": "stdout",
          "text": [
            "(1, 3) (3, 4) (2, 4) (4, 3)\n",
            "tf.Tensor(\n",
            "[[ 9 18 14]\n",
            " [17 42 31]], shape=(2, 3), dtype=int32)\n"
          ]
        },
        {
          "output_type": "execute_result",
          "data": {
            "text/plain": [
              "<tf.Tensor: shape=(2, 3), dtype=int32, numpy=\n",
              "array([[ 9, 18, 14],\n",
              "       [17, 42, 31]], dtype=int32)>"
            ]
          },
          "metadata": {},
          "execution_count": 100
        }
      ]
    },
    {
      "cell_type": "code",
      "source": [
        "x_3.T = 4,2\n",
        "x_2.T = 4,3"
      ],
      "metadata": {
        "id": "o8AW8JIS7-cs"
      },
      "execution_count": null,
      "outputs": []
    },
    {
      "cell_type": "code",
      "source": [
        "x_3"
      ],
      "metadata": {
        "colab": {
          "base_uri": "https://localhost:8080/"
        },
        "id": "Aop-oELJ96QF",
        "outputId": "61260733-186e-42f3-bf02-3ce673d5de40"
      },
      "execution_count": null,
      "outputs": [
        {
          "output_type": "execute_result",
          "data": {
            "text/plain": [
              "<tf.Tensor: shape=(2, 4), dtype=int32, numpy=\n",
              "array([[ 1,  2,  0,  2],\n",
              "       [ 3,  5, -1,  2]], dtype=int32)>"
            ]
          },
          "metadata": {},
          "execution_count": 103
        }
      ]
    },
    {
      "cell_type": "code",
      "source": [
        "x_1 = tf.constant([[10, 0],\n",
        "                   [1,2]])\n",
        "x_2 = tf.constant([[1,2,2],\n",
        "                   [5,3,2]])\n",
        "print(tf.linalg.matmul(x_1,x_2))"
      ],
      "metadata": {
        "colab": {
          "base_uri": "https://localhost:8080/"
        },
        "id": "17w3_wOl-Pcj",
        "outputId": "2a773e2f-8de5-4f73-9787-7dc707e9c8fd"
      },
      "execution_count": null,
      "outputs": [
        {
          "output_type": "stream",
          "name": "stdout",
          "text": [
            "tf.Tensor(\n",
            "[[10 20 20]\n",
            " [11  8  6]], shape=(2, 3), dtype=int32)\n"
          ]
        }
      ]
    },
    {
      "cell_type": "code",
      "source": [
        "tensor_two_d_m_n = tf.constant([[0,-1,2],\n",
        "                                [1,0,-1],\n",
        "                                [2,1,0],\n",
        "                                [3,2,1]], dtype=tf.float16)\n",
        "tensor_two_d_n_m = tf.constant([[0,1,2],\n",
        "                                [2,0,1],\n",
        "                                [-2,-1,0],\n",
        "                                [-4,-2,-1]], dtype=tf.float16)\n"
      ],
      "metadata": {
        "id": "9jgfTzy3ELDC"
      },
      "execution_count": null,
      "outputs": []
    },
    {
      "cell_type": "code",
      "source": [
        ""
      ],
      "metadata": {
        "id": "TSnw5IbeEhaj"
      },
      "execution_count": null,
      "outputs": []
    },
    {
      "cell_type": "code",
      "source": [
        "x = tf.constant([1, 2, 3])\n",
        "y = tf.broadcast_to(x, [3, 3])\n",
        "print(y)"
      ],
      "metadata": {
        "colab": {
          "base_uri": "https://localhost:8080/"
        },
        "id": "GXqxsRWlEhpb",
        "outputId": "60e1f06b-dbfa-48ce-f1de-3c1995827a24"
      },
      "execution_count": null,
      "outputs": [
        {
          "output_type": "stream",
          "name": "stdout",
          "text": [
            "tf.Tensor(\n",
            "[[1 2 3]\n",
            " [1 2 3]\n",
            " [1 2 3]], shape=(3, 3), dtype=int32)\n"
          ]
        }
      ]
    },
    {
      "cell_type": "code",
      "source": [
        "tf.linalg.band_part(tensor_two_D, 0, -1)"
      ],
      "metadata": {
        "colab": {
          "base_uri": "https://localhost:8080/"
        },
        "id": "0RVIaaiVEh8a",
        "outputId": "98d3f4ae-2489-4e34-99c8-9d9e640475d9"
      },
      "execution_count": null,
      "outputs": [
        {
          "output_type": "execute_result",
          "data": {
            "text/plain": [
              "<tf.Tensor: shape=(4, 3), dtype=float32, numpy=\n",
              "array([[  1.,  -2.,   0.],\n",
              "       [  0.,   5., 100.],\n",
              "       [  0.,   0.,   6.],\n",
              "       [  0.,   0.,   0.]], dtype=float32)>"
            ]
          },
          "metadata": {},
          "execution_count": 110
        }
      ]
    },
    {
      "cell_type": "code",
      "source": [
        "tensor_two_d = tf.constant([[1,-2,0],\n",
        "                            [3,5,100],\n",
        "                            [1,5,6]], dtype=tf.float32)\n",
        "tensor_two_d_inv = tf.linalg.inv(tensor_two_d)\n",
        "\n",
        "tensor_two_d_inv"
      ],
      "metadata": {
        "colab": {
          "base_uri": "https://localhost:8080/"
        },
        "id": "fNUVs2LtEiQr",
        "outputId": "ea0ab094-1cfa-4b47-a70c-27ad28ace12a"
      },
      "execution_count": null,
      "outputs": [
        {
          "output_type": "execute_result",
          "data": {
            "text/plain": [
              "<tf.Tensor: shape=(3, 3), dtype=float32, numpy=\n",
              "array([[ 0.7413249 , -0.01892744,  0.3154574 ],\n",
              "       [-0.12933753, -0.00946372,  0.15772872],\n",
              "       [-0.01577287,  0.01104101, -0.01735016]], dtype=float32)>"
            ]
          },
          "metadata": {},
          "execution_count": 115
        }
      ]
    },
    {
      "cell_type": "code",
      "source": [
        "A = np.array([[[2, 6, 5, 0],\n",
        "              [2, -2, 2, 2],\n",
        "              [1, 5, 4, 0]],\n",
        "             [[2, 6, 5, 0],\n",
        "              [2, -2, 2, 2],\n",
        "              [1, 5, 4, 0]]])\n",
        "\n",
        "B = np.array([[[2, 9, 0, 3, 0],\n",
        "              [3, 6, 8, -2, 2],\n",
        "              [3, 3, 5, 0, 1],\n",
        "              [3, 0, 2, 0, 4]],\n",
        "              [[2, 9, 0, 3, 0],\n",
        "              [3, 6, 8, -2, 2],\n",
        "              [3, 3, 5, 0, 1],\n",
        "              [3, 0, 2, 0, 4]]])\n",
        "\n",
        "\n",
        "print(\"Batch multiplication c=: \\n\")\n",
        "print(np.matmul(A,B), \"\\n\")\n",
        "\n",
        "\n",
        "print(\"Einsum c=: \\n\")\n",
        "print(np.einsum('bij,bjk ->bik', A,B))"
      ],
      "metadata": {
        "colab": {
          "base_uri": "https://localhost:8080/"
        },
        "id": "ATyUs0VCIdkZ",
        "outputId": "7ad5636d-e7a9-4b7c-8275-b04bf51c49e1"
      },
      "execution_count": null,
      "outputs": [
        {
          "output_type": "stream",
          "name": "stdout",
          "text": [
            "Batch multiplication c=: \n",
            "\n",
            "[[[37 69 73 -6 17]\n",
            "  [10 12 -2 10  6]\n",
            "  [29 51 60 -7 14]]\n",
            "\n",
            " [[37 69 73 -6 17]\n",
            "  [10 12 -2 10  6]\n",
            "  [29 51 60 -7 14]]] \n",
            "\n",
            "Einsum c=: \n",
            "\n",
            "[[[37 69 73 -6 17]\n",
            "  [10 12 -2 10  6]\n",
            "  [29 51 60 -7 14]]\n",
            "\n",
            " [[37 69 73 -6 17]\n",
            "  [10 12 -2 10  6]\n",
            "  [29 51 60 -7 14]]]\n"
          ]
        }
      ]
    },
    {
      "cell_type": "markdown",
      "source": [
        "## Tensor Regged"
      ],
      "metadata": {
        "id": "Db9QqnX1Id-Z"
      }
    },
    {
      "cell_type": "code",
      "source": [
        "import tensorflow as tf\n",
        "tensor_twoD = [[1,2,0],\n",
        "               [3,],\n",
        "               [1,5,6,5,6],\n",
        "               [2,3]]\n",
        "\n",
        "tensor_regged = tf.ragged.constant(tensor_twoD)\n",
        "print(tensor_regged.shape)               \n",
        "print(tensor_regged) "
      ],
      "metadata": {
        "colab": {
          "base_uri": "https://localhost:8080/"
        },
        "id": "Y_1ZL6VjIePx",
        "outputId": "545be781-2b90-4b3b-daa4-16f2db58d771"
      },
      "execution_count": null,
      "outputs": [
        {
          "output_type": "stream",
          "name": "stdout",
          "text": [
            "(4, None)\n",
            "<tf.RaggedTensor [[1, 2, 0], [3], [1, 5, 6, 5, 6], [2, 3]]>\n"
          ]
        }
      ]
    },
    {
      "cell_type": "code",
      "source": [
        ""
      ],
      "metadata": {
        "id": "xn-__pnKIfqG"
      },
      "execution_count": null,
      "outputs": []
    },
    {
      "cell_type": "code",
      "source": [
        ""
      ],
      "metadata": {
        "id": "4iLabWtiIgKg"
      },
      "execution_count": null,
      "outputs": []
    },
    {
      "cell_type": "code",
      "source": [
        ""
      ],
      "metadata": {
        "id": "hmtLr3OlIgaj"
      },
      "execution_count": null,
      "outputs": []
    }
  ]
}